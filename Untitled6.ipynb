{
 "cells": [
  {
   "cell_type": "markdown",
   "metadata": {
    "id": "YAN1TOI5vnmv"
   },
   "source": [
    "Quantum computation use the properties of quantum mechanic on qubit to operate with higher number of methods than classical computation. The interference is one of properties which will not happen in classical bits. This property can give the advantage on quantum algorithm over the classical algorithm by using less complexity. One of the famous quantum algorithm which use interference to advantage over classical counterpart is Grover's seach algorithm which can search by performing superposition over all possible state and create constructive on the solution. The complexity of this algorithm can solve it with $O(\\sqrt{n})$ while the classical solve it with $O(n)$.\n",
    "\n",
    "In this project, we start to demonstrate how benefit of this properties by showing the benchmark problem. In this problem, we want to search the grids which give pattern \"1\" from nxn grid. For example, for 3x3 grids, we want to search for,\n",
    "\n",
    "x o o \\\\\n",
    "x o o \\\\\n",
    "x o o\n",
    "\n",
    "or\n",
    "\n",
    "o x o \\\\\n",
    "o x o \\\\\n",
    "o x o\n",
    "\n",
    "To search these pattern by classical method it will be cost $O(n)$.\n",
    "However, the benefit from quantum interference in Grover's algorithm can reduce the process to $O(\\sqrt{n})$"
   ]
  },
  {
   "cell_type": "code",
   "execution_count": 67,
   "metadata": {
    "colab": {
     "base_uri": "https://localhost:8080/"
    },
    "id": "nw1e8_LQevQm",
    "outputId": "4191462d-8d51-491f-d8ab-5b493a1275ba"
   },
   "outputs": [
    {
     "name": "stderr",
     "output_type": "stream",
     "text": [
      "configrc.store_credentials:WARNING:2021-04-11 12:53:01,300: Credentials already present. Set overwrite=True to overwrite.\n",
      "ibmqfactory.load_account:WARNING:2021-04-11 12:53:02,149: Credentials are already in use. The existing account in the session will be replaced.\n"
     ]
    }
   ],
   "source": [
    "import numpy as np\n",
    "# Importing standard Qiskit libraries\n",
    "from qiskit import QuantumCircuit, transpile, Aer, IBMQ\n",
    "from qiskit.tools.jupyter import *\n",
    "from qiskit.visualization import *\n",
    "\n",
    "# Loading your IBM Q account(s)\n",
    "#IBMQ.save_account(\"\")\n",
    "provider = IBMQ.load_account()"
   ]
  },
  {
   "cell_type": "code",
   "execution_count": 68,
   "metadata": {
    "id": "8Lh-HNWOeUJW"
   },
   "outputs": [],
   "source": [
    "from math import pi\n",
    "import numpy as np\n",
    "import matplotlib.pyplot as plt\n",
    "from qiskit import QuantumRegister, QuantumCircuit, ClassicalRegister\n",
    "\n",
    "# importing Qiskit\n",
    "from qiskit.providers.ibmq import least_busy\n",
    "from qiskit import QuantumCircuit, ClassicalRegister, QuantumRegister, transpile, assemble\n",
    "\n",
    "# import basic plot tools\n",
    "from qiskit.visualization import plot_histogram\n",
    "\n",
    "import random\n",
    "pi = np.pi"
   ]
  },
  {
   "cell_type": "code",
   "execution_count": 69,
   "metadata": {
    "id": "Ho7ZLa4tffrt"
   },
   "outputs": [],
   "source": [
    "from qiskit import IBMQ\n",
    "provider = IBMQ.get_provider('ibm-q')\n",
    "backend = provider.get_backend('ibmq_qasm_simulator')"
   ]
  },
  {
   "cell_type": "markdown",
   "metadata": {
    "id": "kiSTdSTRmPmL"
   },
   "source": [
    "First, we define the circuit of each part inside the Grover's search algorithm. The first part we define is the diffusion or amplitude amplification which use the interference to constructive the negative-phase state and destructive the positive-phase state. \n"
   ]
  },
  {
   "cell_type": "code",
   "execution_count": 70,
   "metadata": {
    "id": "1qq3xbOgfkek"
   },
   "outputs": [],
   "source": [
    "def diffusion(qc, register,auxiliary = []):\n",
    "    #qc.barrier()\n",
    "    qc.h(register[:])\n",
    "    qc.x(register[:])\n",
    "    #qc.barrier()\n",
    "    qc.h(register[-1])\n",
    "    if len(register)-2 > len(auxiliary):\n",
    "        raise Exception(\"Number of auxiliary qubits must above number of register 2 qubits\")\n",
    "    if len(auxiliary) > 0:\n",
    "        qc.mct(register[:-1],register[-1],auxiliary)\n",
    "    else:\n",
    "        qc.ccx(register[0],register[1],register[2])\n",
    "    qc.h(register[-1])\n",
    "    #qc.barrier()\n",
    "    qc.x(register[:])\n",
    "    qc.h(register[:])\n",
    "    #qc.barrier()"
   ]
  },
  {
   "cell_type": "markdown",
   "metadata": {
    "id": "WXjTJoLbngeo"
   },
   "source": [
    "The second circuit is oracle for nark the grids which give pattern one, in this case we implement the circuit which flip the phase when all grid in one column is activate. Due to it is 2x2 grid, we can mark the state by using control-z gate.\n",
    "\n",
    "The circuit will mark the pattern which give the form,\n",
    "\n",
    "x o \\\\\n",
    "x o\n",
    "\n",
    "and \n",
    "\n",
    "o x \\\\\n",
    "o x\n",
    "\n",
    "if the pattern become\n",
    "\n",
    "x x \\\\\n",
    "x x\n",
    "\n",
    "The phase will flip again and this state will not be marked."
   ]
  },
  {
   "cell_type": "code",
   "execution_count": 71,
   "metadata": {
    "id": "8PZRoPlrf0Yc"
   },
   "outputs": [],
   "source": [
    "def oracle(qc):\n",
    "    qc.cz(0,2)\n",
    "    qc.cz(1,3)"
   ]
  },
  {
   "cell_type": "markdown",
   "metadata": {
    "id": "PLHY0wlDpnMo"
   },
   "source": [
    "We finally create all part of Grover's search algorithm. Now, we will combine both part in one circuit. First, we need to create all grid pattern we want to search by using Hardamard gate which create superposition of all possible state. Then, we apply the oracle to mark the right state and use diffusion or amplitude amplification to constructive the choosen state."
   ]
  },
  {
   "cell_type": "code",
   "execution_count": 72,
   "metadata": {
    "id": "uw7jRQtvf4UN"
   },
   "outputs": [],
   "source": [
    "def Grover_1():\n",
    "    qr = QuantumRegister(4)\n",
    "    auxiliary = QuantumRegister(2)\n",
    "    cr = ClassicalRegister(4)\n",
    "    qc = QuantumCircuit(qr,auxiliary,cr)\n",
    "    qc.h(qr[:])\n",
    "    oracle(qc)\n",
    "    diffusion(qc, qr,auxiliary)\n",
    "    qc.measure(qr,cr)\n",
    "    return qc"
   ]
  },
  {
   "cell_type": "code",
   "execution_count": 73,
   "metadata": {
    "colab": {
     "base_uri": "https://localhost:8080/",
     "height": 242
    },
    "id": "HipdLxDKrp3w",
    "outputId": "3a25eec0-5800-4f93-f085-5bad613c5be9"
   },
   "outputs": [
    {
     "data": {
      "text/html": [
       "<pre style=\"word-wrap: normal;white-space: pre;background: #fff0;line-height: 1.1;font-family: &quot;Courier New&quot;,Courier,monospace\">       ┌───┐   ┌───┐┌───┐               ┌───┐┌───┐     ┌─┐         \n",
       "q50_0: ┤ H ├─■─┤ H ├┤ X ├────────────■──┤ X ├┤ H ├─────┤M├─────────\n",
       "       ├───┤ │ └───┘├───┤┌───┐       │  ├───┤├───┤     └╥┘┌─┐      \n",
       "q50_1: ┤ H ├─┼───■──┤ H ├┤ X ├───────■──┤ X ├┤ H ├──────╫─┤M├──────\n",
       "       ├───┤ │   │  ├───┤├───┤       │  ├───┤├───┤      ║ └╥┘┌─┐   \n",
       "q50_2: ┤ H ├─■───┼──┤ H ├┤ X ├───────■──┤ X ├┤ H ├──────╫──╫─┤M├───\n",
       "       ├───┤     │  ├───┤├───┤┌───┐┌─┴─┐├───┤├───┤┌───┐ ║  ║ └╥┘┌─┐\n",
       "q50_3: ┤ H ├─────■──┤ H ├┤ X ├┤ H ├┤ X ├┤ H ├┤ X ├┤ H ├─╫──╫──╫─┤M├\n",
       "       └───┘        └───┘└───┘└───┘└───┘└───┘└───┘└───┘ ║  ║  ║ └╥┘\n",
       "q51_0: ─────────────────────────────────────────────────╫──╫──╫──╫─\n",
       "                                                        ║  ║  ║  ║ \n",
       "q51_1: ─────────────────────────────────────────────────╫──╫──╫──╫─\n",
       "                                                        ║  ║  ║  ║ \n",
       " c7: 4/═════════════════════════════════════════════════╩══╩══╩══╩═\n",
       "                                                        0  1  2  3 </pre>"
      ],
      "text/plain": [
       "       ┌───┐   ┌───┐┌───┐               ┌───┐┌───┐     ┌─┐         \n",
       "q50_0: ┤ H ├─■─┤ H ├┤ X ├────────────■──┤ X ├┤ H ├─────┤M├─────────\n",
       "       ├───┤ │ └───┘├───┤┌───┐       │  ├───┤├───┤     └╥┘┌─┐      \n",
       "q50_1: ┤ H ├─┼───■──┤ H ├┤ X ├───────■──┤ X ├┤ H ├──────╫─┤M├──────\n",
       "       ├───┤ │   │  ├───┤├───┤       │  ├───┤├───┤      ║ └╥┘┌─┐   \n",
       "q50_2: ┤ H ├─■───┼──┤ H ├┤ X ├───────■──┤ X ├┤ H ├──────╫──╫─┤M├───\n",
       "       ├───┤     │  ├───┤├───┤┌───┐┌─┴─┐├───┤├───┤┌───┐ ║  ║ └╥┘┌─┐\n",
       "q50_3: ┤ H ├─────■──┤ H ├┤ X ├┤ H ├┤ X ├┤ H ├┤ X ├┤ H ├─╫──╫──╫─┤M├\n",
       "       └───┘        └───┘└───┘└───┘└───┘└───┘└───┘└───┘ ║  ║  ║ └╥┘\n",
       "q51_0: ─────────────────────────────────────────────────╫──╫──╫──╫─\n",
       "                                                        ║  ║  ║  ║ \n",
       "q51_1: ─────────────────────────────────────────────────╫──╫──╫──╫─\n",
       "                                                        ║  ║  ║  ║ \n",
       " c7: 4/═════════════════════════════════════════════════╩══╩══╩══╩═\n",
       "                                                        0  1  2  3 "
      ]
     },
     "execution_count": 73,
     "metadata": {
      "tags": []
     },
     "output_type": "execute_result"
    }
   ],
   "source": [
    "q_circuit = Grover_1()\n",
    "\n",
    "q_circuit.draw()\n"
   ]
  },
  {
   "cell_type": "markdown",
   "metadata": {
    "id": "ZkM8PWlMs4Od"
   },
   "source": [
    "Finally, the simulation show the result we want, however there are error case which is the mistake from the in correct oracle. The addition result are\n",
    "\n",
    "x o \\\\\n",
    "x x\n",
    "\n",
    "\n",
    "x x \\\\\n",
    "x o\n",
    "\n",
    "o x \\\\\n",
    "x x\n",
    "\n",
    "and\n",
    "\n",
    "x x \\\\\n",
    "o x\n"
   ]
  },
  {
   "cell_type": "code",
   "execution_count": 74,
   "metadata": {
    "colab": {
     "base_uri": "https://localhost:8080/",
     "height": 348
    },
    "id": "CcwzfXRjhsjA",
    "outputId": "026520a9-8a01-4e38-b9db-fe2425ae7d6a"
   },
   "outputs": [
    {
     "data": {
      "image/png": "[encoded data removed]",
      "text/plain": [
       "<Figure size 504x360 with 1 Axes>"
      ]
     },
     "execution_count": 74,
     "metadata": {
      "tags": []
     },
     "output_type": "execute_result"
    }
   ],
   "source": [
    "# use local simulator\n",
    "\n",
    "qasm_sim = Aer.get_backend('qasm_simulator')\n",
    "shots = 1024\n",
    "qobj = assemble(q_circuit)\n",
    "results = qasm_sim.run(qobj).result()\n",
    "answer = results.get_counts()\n",
    "\n",
    "plot_histogram(answer)"
   ]
  },
  {
   "cell_type": "code",
   "execution_count": 75,
   "metadata": {
    "colab": {
     "base_uri": "https://localhost:8080/"
    },
    "id": "1wdnS6GCjUKW",
    "outputId": "25ffd7f2-b9e6-4094-f4d1-3cc30a2c66dd"
   },
   "outputs": [
    {
     "name": "stderr",
     "output_type": "stream",
     "text": [
      "ibmqfactory.load_account:WARNING:2021-04-11 12:53:09,414: Credentials are already in use. The existing account in the session will be replaced.\n"
     ]
    },
    {
     "name": "stdout",
     "output_type": "stream",
     "text": [
      "least busy backend:  ibmq_16_melbourne\n"
     ]
    }
   ],
   "source": [
    "# Load our saved IBMQ accounts and get the least busy backend device with less than or equal to 5 qubits\n",
    "IBMQ.load_account()\n",
    "provider = IBMQ.get_provider(hub='ibm-q')\n",
    "provider.backends()\n",
    "backend = least_busy(provider.backends(filters=lambda x: x.configuration().n_qubits <= 20 and\n",
    "                                   x.configuration().n_qubits >= 6 and\n",
    "                                   not x.configuration().simulator and x.status().operational==True))\n",
    "print(\"least busy backend: \", backend)"
   ]
  },
  {
   "cell_type": "code",
   "execution_count": 76,
   "metadata": {
    "colab": {
     "base_uri": "https://localhost:8080/"
    },
    "id": "piLtoQeFjuwX",
    "outputId": "5ad930c1-fe9a-4e16-edb9-5e04a074fa5c"
   },
   "outputs": [
    {
     "name": "stderr",
     "output_type": "stream",
     "text": [
      "/usr/local/lib/python3.7/dist-packages/ipykernel_launcher.py:7: DeprecationWarning: Passing a Qobj to Backend.run is deprecated and will be removed in a future release. Please pass in circuits or pulse schedules instead.\n",
      "  import sys\n"
     ]
    },
    {
     "name": "stdout",
     "output_type": "stream",
     "text": [
      "Job Status: job has successfully run\n"
     ]
    }
   ],
   "source": [
    "# Run our circuit on the least busy backend. Monitor the execution of the job in the queue\n",
    "from qiskit.tools.monitor import job_monitor\n",
    "\n",
    "shots = 1024\n",
    "transpiled_bv_circuit = transpile(q_circuit, backend)\n",
    "qobj = assemble(transpiled_bv_circuit, shots=shots)\n",
    "job = backend.run(qobj)\n",
    "\n",
    "job_monitor(job, interval=2)"
   ]
  },
  {
   "cell_type": "markdown",
   "metadata": {
    "id": "H_P9Fkkn1NHi"
   },
   "source": [
    "We also run on the real quantum device. In this case, our problem use 6 qubits (4 problem qubits + 2 ancilar qubits). Thus, we need to run on ibmq_16_melbourne which suppoerted up to 16 qubits. The result show that there is noisy in amplitude."
   ]
  },
  {
   "cell_type": "code",
   "execution_count": 77,
   "metadata": {
    "colab": {
     "base_uri": "https://localhost:8080/",
     "height": 348
    },
    "id": "qvUQ_lRMlFXH",
    "outputId": "c72f5684-d903-477a-959e-656ca132896d"
   },
   "outputs": [
    {
     "data": {
      "image/png": "[encoded data removed]",
      "text/plain": [
       "<Figure size 504x360 with 1 Axes>"
      ]
     },
     "execution_count": 77,
     "metadata": {
      "tags": []
     },
     "output_type": "execute_result"
    }
   ],
   "source": [
    "# Get the results from the computation\n",
    "results = job.result()\n",
    "answer = results.get_counts()\n",
    "\n",
    "plot_histogram(answer)"
   ]
  },
  {
   "cell_type": "markdown",
   "metadata": {
    "id": "l2O9Ub5821v9"
   },
   "source": [
    "Firstly, we assume that the noise which occurs on the qubits may come from bit flip or phase flip error. These error should effect the interference pattern and thus give the noisy result. Thus, we tried some addition experiment."
   ]
  },
  {
   "cell_type": "markdown",
   "metadata": {
    "id": "9D6QGYsc4300"
   },
   "source": [
    "First, we create empty circuit which we expected result is \"0000\""
   ]
  },
  {
   "cell_type": "code",
   "execution_count": 78,
   "metadata": {
    "id": "kwuO69aH4BDg"
   },
   "outputs": [],
   "source": [
    "def empty():\n",
    "    qr = QuantumRegister(4)\n",
    "    auxiliary = QuantumRegister(2)\n",
    "    cr = ClassicalRegister(4)\n",
    "    qc = QuantumCircuit(qr,auxiliary,cr)\n",
    "    qc.measure(qr,cr)\n",
    "    return qc"
   ]
  },
  {
   "cell_type": "code",
   "execution_count": 79,
   "metadata": {
    "colab": {
     "base_uri": "https://localhost:8080/",
     "height": 242
    },
    "id": "Gw57ahwH5B8g",
    "outputId": "55ca4b53-d34f-4df3-a524-15ccc76ddb02"
   },
   "outputs": [
    {
     "data": {
      "text/html": [
       "<pre style=\"word-wrap: normal;white-space: pre;background: #fff0;line-height: 1.1;font-family: &quot;Courier New&quot;,Courier,monospace\">       ┌─┐         \n",
       "q62_0: ┤M├─────────\n",
       "       └╥┘┌─┐      \n",
       "q62_1: ─╫─┤M├──────\n",
       "        ║ └╥┘┌─┐   \n",
       "q62_2: ─╫──╫─┤M├───\n",
       "        ║  ║ └╥┘┌─┐\n",
       "q62_3: ─╫──╫──╫─┤M├\n",
       "        ║  ║  ║ └╥┘\n",
       "q63_0: ─╫──╫──╫──╫─\n",
       "        ║  ║  ║  ║ \n",
       "q63_1: ─╫──╫──╫──╫─\n",
       "        ║  ║  ║  ║ \n",
       " c8: 4/═╩══╩══╩══╩═\n",
       "        0  1  2  3 </pre>"
      ],
      "text/plain": [
       "       ┌─┐         \n",
       "q62_0: ┤M├─────────\n",
       "       └╥┘┌─┐      \n",
       "q62_1: ─╫─┤M├──────\n",
       "        ║ └╥┘┌─┐   \n",
       "q62_2: ─╫──╫─┤M├───\n",
       "        ║  ║ └╥┘┌─┐\n",
       "q62_3: ─╫──╫──╫─┤M├\n",
       "        ║  ║  ║ └╥┘\n",
       "q63_0: ─╫──╫──╫──╫─\n",
       "        ║  ║  ║  ║ \n",
       "q63_1: ─╫──╫──╫──╫─\n",
       "        ║  ║  ║  ║ \n",
       " c8: 4/═╩══╩══╩══╩═\n",
       "        0  1  2  3 "
      ]
     },
     "execution_count": 79,
     "metadata": {
      "tags": []
     },
     "output_type": "execute_result"
    }
   ],
   "source": [
    "q_circuit = empty()\n",
    "\n",
    "q_circuit.draw()\n"
   ]
  },
  {
   "cell_type": "markdown",
   "metadata": {
    "id": "RX9mPxGK5s2I"
   },
   "source": [
    "The result from simulation is as we expected. It is \"0000\" 100%."
   ]
  },
  {
   "cell_type": "code",
   "execution_count": 80,
   "metadata": {
    "colab": {
     "base_uri": "https://localhost:8080/",
     "height": 347
    },
    "id": "aG7GZlgJ5l78",
    "outputId": "40bef751-19f9-41cc-fbd6-a268bdc4f850"
   },
   "outputs": [
    {
     "data": {
      "image/png": "[encoded data removed]",
      "text/plain": [
       "<Figure size 504x360 with 1 Axes>"
      ]
     },
     "execution_count": 80,
     "metadata": {
      "tags": []
     },
     "output_type": "execute_result"
    }
   ],
   "source": [
    "# use local simulator\n",
    "\n",
    "qasm_sim = Aer.get_backend('qasm_simulator')\n",
    "shots = 1024\n",
    "qobj = assemble(q_circuit)\n",
    "results = qasm_sim.run(qobj).result()\n",
    "answer = results.get_counts()\n",
    "\n",
    "plot_histogram(answer)"
   ]
  },
  {
   "cell_type": "code",
   "execution_count": 81,
   "metadata": {
    "colab": {
     "base_uri": "https://localhost:8080/"
    },
    "id": "_G62hSKr5psx",
    "outputId": "5384617f-85a0-4aa5-983b-1bc02b4dfe34"
   },
   "outputs": [
    {
     "name": "stderr",
     "output_type": "stream",
     "text": [
      "ibmqfactory.load_account:WARNING:2021-04-11 12:55:12,200: Credentials are already in use. The existing account in the session will be replaced.\n"
     ]
    },
    {
     "name": "stdout",
     "output_type": "stream",
     "text": [
      "least busy backend:  ibmq_16_melbourne\n"
     ]
    }
   ],
   "source": [
    "# Load our saved IBMQ accounts and get the least busy backend device with less than or equal to 5 qubits\n",
    "IBMQ.load_account()\n",
    "provider = IBMQ.get_provider(hub='ibm-q')\n",
    "provider.backends()\n",
    "backend = least_busy(provider.backends(filters=lambda x: x.configuration().n_qubits <= 20 and\n",
    "                                   x.configuration().n_qubits >= 6 and\n",
    "                                   not x.configuration().simulator and x.status().operational==True))\n",
    "print(\"least busy backend: \", backend)"
   ]
  },
  {
   "cell_type": "markdown",
   "metadata": {
    "id": "AzQndgLL6Bnq"
   },
   "source": [
    "Now, we run it on the real device, which we expected to have lower noise because this circuit have operation."
   ]
  },
  {
   "cell_type": "code",
   "execution_count": 82,
   "metadata": {
    "colab": {
     "base_uri": "https://localhost:8080/"
    },
    "id": "EqvkjFBk58Xo",
    "outputId": "4b19193f-50bc-4c14-e283-62450869221b"
   },
   "outputs": [
    {
     "name": "stderr",
     "output_type": "stream",
     "text": [
      "/usr/local/lib/python3.7/dist-packages/ipykernel_launcher.py:7: DeprecationWarning: Passing a Qobj to Backend.run is deprecated and will be removed in a future release. Please pass in circuits or pulse schedules instead.\n",
      "  import sys\n"
     ]
    },
    {
     "name": "stdout",
     "output_type": "stream",
     "text": [
      "Job Status: job has successfully run\n"
     ]
    }
   ],
   "source": [
    "# Run our circuit on the least busy backend. Monitor the execution of the job in the queue\n",
    "from qiskit.tools.monitor import job_monitor\n",
    "\n",
    "shots = 1024\n",
    "transpiled_bv_circuit = transpile(q_circuit, backend)\n",
    "qobj = assemble(transpiled_bv_circuit, shots=shots)\n",
    "job = backend.run(qobj)\n",
    "\n",
    "job_monitor(job, interval=2)"
   ]
  },
  {
   "cell_type": "markdown",
   "metadata": {
    "id": "gBNIxrjb6Vlc"
   },
   "source": [
    "Now, we add the hadarmard gate on all qubits which give the uniform distribution of all state."
   ]
  },
  {
   "cell_type": "code",
   "execution_count": 83,
   "metadata": {
    "id": "TUlZFEmy6ShB"
   },
   "outputs": [],
   "source": [
    "def Add_1H():\n",
    "    qr = QuantumRegister(4)\n",
    "    auxiliary = QuantumRegister(2)\n",
    "    cr = ClassicalRegister(4)\n",
    "    qc = QuantumCircuit(qr,auxiliary,cr)\n",
    "    qc.h(qr[:])\n",
    "    qc.measure(qr,cr)\n",
    "    return qc"
   ]
  },
  {
   "cell_type": "code",
   "execution_count": 84,
   "metadata": {
    "colab": {
     "base_uri": "https://localhost:8080/",
     "height": 242
    },
    "id": "Umq5Fu2l7NcQ",
    "outputId": "298ed589-c372-4a2f-c192-7a5c868abfc0"
   },
   "outputs": [
    {
     "data": {
      "text/html": [
       "<pre style=\"word-wrap: normal;white-space: pre;background: #fff0;line-height: 1.1;font-family: &quot;Courier New&quot;,Courier,monospace\">       ┌───┐┌─┐         \n",
       "q67_0: ┤ H ├┤M├─────────\n",
       "       ├───┤└╥┘┌─┐      \n",
       "q67_1: ┤ H ├─╫─┤M├──────\n",
       "       ├───┤ ║ └╥┘┌─┐   \n",
       "q67_2: ┤ H ├─╫──╫─┤M├───\n",
       "       ├───┤ ║  ║ └╥┘┌─┐\n",
       "q67_3: ┤ H ├─╫──╫──╫─┤M├\n",
       "       └───┘ ║  ║  ║ └╥┘\n",
       "q68_0: ──────╫──╫──╫──╫─\n",
       "             ║  ║  ║  ║ \n",
       "q68_1: ──────╫──╫──╫──╫─\n",
       "             ║  ║  ║  ║ \n",
       " c9: 4/══════╩══╩══╩══╩═\n",
       "             0  1  2  3 </pre>"
      ],
      "text/plain": [
       "       ┌───┐┌─┐         \n",
       "q67_0: ┤ H ├┤M├─────────\n",
       "       ├───┤└╥┘┌─┐      \n",
       "q67_1: ┤ H ├─╫─┤M├──────\n",
       "       ├───┤ ║ └╥┘┌─┐   \n",
       "q67_2: ┤ H ├─╫──╫─┤M├───\n",
       "       ├───┤ ║  ║ └╥┘┌─┐\n",
       "q67_3: ┤ H ├─╫──╫──╫─┤M├\n",
       "       └───┘ ║  ║  ║ └╥┘\n",
       "q68_0: ──────╫──╫──╫──╫─\n",
       "             ║  ║  ║  ║ \n",
       "q68_1: ──────╫──╫──╫──╫─\n",
       "             ║  ║  ║  ║ \n",
       " c9: 4/══════╩══╩══╩══╩═\n",
       "             0  1  2  3 "
      ]
     },
     "execution_count": 84,
     "metadata": {
      "tags": []
     },
     "output_type": "execute_result"
    }
   ],
   "source": [
    "q_circuit = Add_1H()\n",
    "\n",
    "q_circuit.draw()"
   ]
  },
  {
   "cell_type": "code",
   "execution_count": 85,
   "metadata": {
    "colab": {
     "base_uri": "https://localhost:8080/",
     "height": 348
    },
    "id": "4WIi_YnP7SZ4",
    "outputId": "fbfcd8f7-eec0-429b-e1ab-d02b9151ddc8"
   },
   "outputs": [
    {
     "data": {
      "image/png": "[encoded data removed]",
      "text/plain": [
       "<Figure size 504x360 with 1 Axes>"
      ]
     },
     "execution_count": 85,
     "metadata": {
      "tags": []
     },
     "output_type": "execute_result"
    }
   ],
   "source": [
    "# use local simulator\n",
    "\n",
    "qasm_sim = Aer.get_backend('qasm_simulator')\n",
    "shots = 1024\n",
    "qobj = assemble(q_circuit)\n",
    "results = qasm_sim.run(qobj).result()\n",
    "answer = results.get_counts()\n",
    "\n",
    "plot_histogram(answer)"
   ]
  },
  {
   "cell_type": "code",
   "execution_count": 86,
   "metadata": {
    "colab": {
     "base_uri": "https://localhost:8080/"
    },
    "id": "fygUCbWG7fYe",
    "outputId": "3ec96223-addd-4f2d-e3d1-b71173c6da73"
   },
   "outputs": [
    {
     "name": "stderr",
     "output_type": "stream",
     "text": [
      "ibmqfactory.load_account:WARNING:2021-04-11 12:57:08,974: Credentials are already in use. The existing account in the session will be replaced.\n"
     ]
    },
    {
     "name": "stdout",
     "output_type": "stream",
     "text": [
      "least busy backend:  ibmq_16_melbourne\n"
     ]
    }
   ],
   "source": [
    "# Load our saved IBMQ accounts and get the least busy backend device with less than or equal to 5 qubits\n",
    "IBMQ.load_account()\n",
    "provider = IBMQ.get_provider(hub='ibm-q')\n",
    "provider.backends()\n",
    "backend = least_busy(provider.backends(filters=lambda x: x.configuration().n_qubits <= 20 and\n",
    "                                   x.configuration().n_qubits >= 6 and\n",
    "                                   not x.configuration().simulator and x.status().operational==True))\n",
    "print(\"least busy backend: \", backend)"
   ]
  },
  {
   "cell_type": "code",
   "execution_count": null,
   "metadata": {
    "colab": {
     "base_uri": "https://localhost:8080/"
    },
    "id": "06HTU6r8747h",
    "outputId": "70d17f01-f40c-4984-e8ed-edfa1ce441ae"
   },
   "outputs": [
    {
     "name": "stderr",
     "output_type": "stream",
     "text": [
      "/usr/local/lib/python3.7/dist-packages/ipykernel_launcher.py:7: DeprecationWarning: Passing a Qobj to Backend.run is deprecated and will be removed in a future release. Please pass in circuits or pulse schedules instead.\n",
      "  import sys\n"
     ]
    },
    {
     "name": "stdout",
     "output_type": "stream",
     "text": [
      "Job Status: job is queued (None)"
     ]
    }
   ],
   "source": [
    "# Run our circuit on the least busy backend. Monitor the execution of the job in the queue\n",
    "from qiskit.tools.monitor import job_monitor\n",
    "\n",
    "shots = 1024\n",
    "transpiled_bv_circuit = transpile(q_circuit, backend)\n",
    "qobj = assemble(transpiled_bv_circuit, shots=shots)\n",
    "job = backend.run(qobj)\n",
    "\n",
    "job_monitor(job, interval=2)"
   ]
  },
  {
   "cell_type": "code",
   "execution_count": null,
   "metadata": {
    "id": "g9PgIxaV-tuR"
   },
   "outputs": [],
   "source": [
    "# Get the results from the computation\n",
    "results = job.result()\n",
    "answer = results.get_counts()\n",
    "\n",
    "plot_histogram(answer)"
   ]
  },
  {
   "cell_type": "markdown",
   "metadata": {
    "id": "9OqZ_N2I8Am6"
   },
   "source": [
    "Now, we add 2 layers of Hadarmard gate which the second Hadarmard will create interference which destructive all state, except \"0000\". Thus, this case is expected \"0000\" output."
   ]
  },
  {
   "cell_type": "code",
   "execution_count": null,
   "metadata": {
    "id": "wsY78T8j8-mE"
   },
   "outputs": [],
   "source": [
    "def Add_2H():\n",
    "    qr = QuantumRegister(4)\n",
    "    auxiliary = QuantumRegister(2)\n",
    "    cr = ClassicalRegister(4)\n",
    "    qc = QuantumCircuit(qr,auxiliary,cr)\n",
    "    qc.h(qr[:])\n",
    "    qc.h(qr[:])\n",
    "    qc.measure(qr,cr)\n",
    "    return qc"
   ]
  },
  {
   "cell_type": "code",
   "execution_count": null,
   "metadata": {
    "id": "idyAxd6k82cp"
   },
   "outputs": [],
   "source": [
    "q_circuit = Add_2H()\n",
    "\n",
    "q_circuit.draw()"
   ]
  },
  {
   "cell_type": "code",
   "execution_count": null,
   "metadata": {
    "id": "gJ4CJavd8xOw"
   },
   "outputs": [],
   "source": [
    "# use local simulator\n",
    "\n",
    "qasm_sim = Aer.get_backend('qasm_simulator')\n",
    "shots = 1024\n",
    "qobj = assemble(q_circuit)\n",
    "results = qasm_sim.run(qobj).result()\n",
    "answer = results.get_counts()\n",
    "\n",
    "plot_histogram(answer)"
   ]
  },
  {
   "cell_type": "code",
   "execution_count": null,
   "metadata": {
    "id": "u938hb1V9Dgg"
   },
   "outputs": [],
   "source": [
    "# Load our saved IBMQ accounts and get the least busy backend device with less than or equal to 5 qubits\n",
    "IBMQ.load_account()\n",
    "provider = IBMQ.get_provider(hub='ibm-q')\n",
    "provider.backends()\n",
    "backend = least_busy(provider.backends(filters=lambda x: x.configuration().n_qubits <= 20 and\n",
    "                                   x.configuration().n_qubits >= 6 and\n",
    "                                   not x.configuration().simulator and x.status().operational==True))\n",
    "print(\"least busy backend: \", backend)"
   ]
  },
  {
   "cell_type": "code",
   "execution_count": null,
   "metadata": {
    "id": "U6HrOIj19GbA"
   },
   "outputs": [],
   "source": [
    "# Run our circuit on the least busy backend. Monitor the execution of the job in the queue\n",
    "from qiskit.tools.monitor import job_monitor\n",
    "\n",
    "shots = 1024\n",
    "transpiled_bv_circuit = transpile(q_circuit, backend)\n",
    "qobj = assemble(transpiled_bv_circuit, shots=shots)\n",
    "job = backend.run(qobj)\n",
    "\n",
    "job_monitor(job, interval=2)"
   ]
  },
  {
   "cell_type": "code",
   "execution_count": null,
   "metadata": {
    "id": "_w6p3C4--zJ4"
   },
   "outputs": [],
   "source": [
    "# Get the results from the computation\n",
    "results = job.result()\n",
    "answer = results.get_counts()\n",
    "\n",
    "plot_histogram(answer)"
   ]
  },
  {
   "cell_type": "markdown",
   "metadata": {
    "id": "s_TC-Mvt9NbD"
   },
   "source": [
    "We assume that the noise can effect interference. However, it appear that the result from device have not high significant to the result which pass 1 interference process.\n",
    "Thus, we tried higher layer. This case, we use 10 layers."
   ]
  },
  {
   "cell_type": "code",
   "execution_count": null,
   "metadata": {
    "id": "p1i8xWdV9JD3"
   },
   "outputs": [],
   "source": [
    "def Add_10H():\n",
    "    qr = QuantumRegister(4)\n",
    "    auxiliary = QuantumRegister(2)\n",
    "    cr = ClassicalRegister(4)\n",
    "    qc = QuantumCircuit(qr,auxiliary,cr)\n",
    "    for i in range(10):\n",
    "          qc.h(qr[:])\n",
    "    qc.measure(qr,cr)\n",
    "    return qc"
   ]
  },
  {
   "cell_type": "code",
   "execution_count": null,
   "metadata": {
    "id": "F-Xp1b_9-Fvv"
   },
   "outputs": [],
   "source": [
    "q_circuit = Add_10H()\n",
    "\n",
    "q_circuit.draw()"
   ]
  },
  {
   "cell_type": "code",
   "execution_count": null,
   "metadata": {
    "id": "pp_4s8b7-JOH"
   },
   "outputs": [],
   "source": [
    "# use local simulator\n",
    "\n",
    "qasm_sim = Aer.get_backend('qasm_simulator')\n",
    "shots = 1024\n",
    "qobj = assemble(q_circuit)\n",
    "results = qasm_sim.run(qobj).result()\n",
    "answer = results.get_counts()\n",
    "\n",
    "plot_histogram(answer)"
   ]
  },
  {
   "cell_type": "code",
   "execution_count": null,
   "metadata": {
    "id": "WiO_2UC6-K6o"
   },
   "outputs": [],
   "source": [
    "# Load our saved IBMQ accounts and get the least busy backend device with less than or equal to 5 qubits\n",
    "IBMQ.load_account()\n",
    "provider = IBMQ.get_provider(hub='ibm-q')\n",
    "provider.backends()\n",
    "backend = least_busy(provider.backends(filters=lambda x: x.configuration().n_qubits <= 20 and\n",
    "                                   x.configuration().n_qubits >= 6 and\n",
    "                                   not x.configuration().simulator and x.status().operational==True))\n",
    "print(\"least busy backend: \", backend)"
   ]
  },
  {
   "cell_type": "code",
   "execution_count": null,
   "metadata": {
    "id": "r4Bq6Z5I-MsY"
   },
   "outputs": [],
   "source": [
    "# Run our circuit on the least busy backend. Monitor the execution of the job in the queue\n",
    "from qiskit.tools.monitor import job_monitor\n",
    "\n",
    "shots = 1024\n",
    "transpiled_bv_circuit = transpile(q_circuit, backend)\n",
    "qobj = assemble(transpiled_bv_circuit, shots=shots)\n",
    "job = backend.run(qobj)\n",
    "\n",
    "job_monitor(job, interval=2)"
   ]
  },
  {
   "cell_type": "code",
   "execution_count": null,
   "metadata": {
    "id": "iEUGcEoe-3Mu"
   },
   "outputs": [],
   "source": [
    "# Get the results from the computation\n",
    "results = job.result()\n",
    "answer = results.get_counts()\n",
    "\n",
    "plot_histogram(answer)"
   ]
  },
  {
   "cell_type": "code",
   "execution_count": null,
   "metadata": {},
   "outputs": [],
   "source": [
    "def Add_14H():\n",
    "    qr = QuantumRegister(4)\n",
    "    auxiliary = QuantumRegister(2)\n",
    "    cr = ClassicalRegister(4)\n",
    "    qc = QuantumCircuit(qr,auxiliary,cr)\n",
    "    for i in range(14):\n",
    "          qc.h(qr[:])\n",
    "    qc.measure(qr,cr)\n",
    "    return qc"
   ]
  },
  {
   "cell_type": "code",
   "execution_count": null,
   "metadata": {},
   "outputs": [],
   "source": [
    "q_circuit = Add_14H()\n",
    "\n",
    "q_circuit.draw()"
   ]
  },
  {
   "cell_type": "code",
   "execution_count": null,
   "metadata": {},
   "outputs": [],
   "source": [
    "# use local simulator\n",
    "\n",
    "qasm_sim = Aer.get_backend('qasm_simulator')\n",
    "shots = 1024\n",
    "qobj = assemble(q_circuit)\n",
    "results = qasm_sim.run(qobj).result()\n",
    "answer = results.get_counts()\n",
    "\n",
    "plot_histogram(answer)"
   ]
  },
  {
   "cell_type": "code",
   "execution_count": null,
   "metadata": {},
   "outputs": [],
   "source": [
    "# Load our saved IBMQ accounts and get the least busy backend device with less than or equal to 5 qubits\n",
    "IBMQ.load_account()\n",
    "provider = IBMQ.get_provider(hub='ibm-q')\n",
    "provider.backends()\n",
    "backend = least_busy(provider.backends(filters=lambda x: x.configuration().n_qubits <= 20 and\n",
    "                                   x.configuration().n_qubits >= 6 and\n",
    "                                   not x.configuration().simulator and x.status().operational==True))\n",
    "print(\"least busy backend: \", backend)"
   ]
  },
  {
   "cell_type": "code",
   "execution_count": null,
   "metadata": {},
   "outputs": [],
   "source": [
    "# Run our circuit on the least busy backend. Monitor the execution of the job in the queue\n",
    "from qiskit.tools.monitor import job_monitor\n",
    "\n",
    "shots = 1024\n",
    "transpiled_bv_circuit = transpile(q_circuit, backend)\n",
    "qobj = assemble(transpiled_bv_circuit, shots=shots)\n",
    "job = backend.run(qobj)\n",
    "\n",
    "job_monitor(job, interval=2)"
   ]
  },
  {
   "cell_type": "code",
   "execution_count": null,
   "metadata": {},
   "outputs": [],
   "source": [
    "# Get the results from the computation\n",
    "results = job.result()\n",
    "answer = results.get_counts()\n",
    "\n",
    "plot_histogram(answer)"
   ]
  },
  {
   "cell_type": "markdown",
   "metadata": {
    "id": "7nMrYDxj-Ppm"
   },
   "source": [
    "The result show that even the interference occur 7 times, the error from device do not effect interference. Thus, we can cinclude that the noise which occur in our algorithm do not comfrom the error inside the interference process.\n",
    "\n",
    "The new assumption is that the noise come from the control-gate which is not relate to interference but the entanglement of qubit which is the other topic of this challenge."
   ]
  },
  {
   "cell_type": "code",
   "execution_count": 66,
   "metadata": {
    "id": "kqIpwZOw-OQX"
   },
   "outputs": [],
   "source": []
  }
 ],
 "metadata": {
  "colab": {
   "name": "Untitled6.ipynb",
   "provenance": []
  },
  "kernelspec": {
   "display_name": "Python 3",
   "language": "python",
   "name": "python3"
  },
  "language_info": {
   "codemirror_mode": {
    "name": "ipython",
    "version": 3
   },
   "file_extension": ".py",
   "mimetype": "text/x-python",
   "name": "python",
   "nbconvert_exporter": "python",
   "pygments_lexer": "ipython3",
   "version": "3.9.2"
  }
 },
 "nbformat": 4,
 "nbformat_minor": 1
}
